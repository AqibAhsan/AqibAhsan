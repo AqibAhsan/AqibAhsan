{
  "cells": [
    {
      "cell_type": "markdown",
      "metadata": {
        "id": "view-in-github",
        "colab_type": "text"
      },
      "source": [
        "<a href=\"https://colab.research.google.com/github/AqibAhsan/AqibAhsan/blob/master/Aqib_Ahsan_Project_Assignment_1_work.ipynb\" target=\"_parent\"><img src=\"https://colab.research.google.com/assets/colab-badge.svg\" alt=\"Open In Colab\"/></a>"
      ]
    },
    {
      "cell_type": "code",
      "source": [
        "!pip install --upgrade tensorflow"
      ],
      "metadata": {
        "id": "yA2BeV6VW03w"
      },
      "execution_count": null,
      "outputs": []
    },
    {
      "cell_type": "code",
      "source": [
        "from __future__ import print_function\n",
        "import pandas as pd\n",
        "pd.__version__"
      ],
      "metadata": {
        "id": "DMB3JxFqXAEf"
      },
      "execution_count": null,
      "outputs": []
    },
    {
      "cell_type": "code",
      "source": [
        "import os\n",
        "os.getcwd()"
      ],
      "metadata": {
        "id": "LKAuaFhfXFTZ"
      },
      "execution_count": null,
      "outputs": []
    },
    {
      "cell_type": "code",
      "source": [
        "#Mouting the drive to load a simple dataset stored on the google drive\n",
        "from google.colab import drive\n",
        "drive.mount('/content/gdrive')"
      ],
      "metadata": {
        "id": "SCWpGoLAXJoo"
      },
      "execution_count": null,
      "outputs": []
    },
    {
      "cell_type": "code",
      "source": [
        "#Loading a dataset into a dataframe\n",
        "#Use describe(), info(), head() functions to get simple statistics and a description of the dataset\n",
        "spamham_dataset_dataframe = pd.read_csv(\"/content/spam.csv\", sep = ',')\n",
        "print('Dataset Loaded...')\n",
        "spamham_dataset_dataframe.describe()\n",
        "#Use iris\n",
        "#spamham_dataset_dataframe.iloc[0:4]"
      ],
      "metadata": {
        "id": "QgItxPFKXvJ_"
      },
      "execution_count": null,
      "outputs": []
    },
    {
      "cell_type": "code",
      "source": [
        "#Use iloc to acces each row, index starts at 0\n",
        "spamham_dataset_dataframe.iloc[0:4603]"
      ],
      "metadata": {
        "id": "2o5QDQUJbKE5"
      },
      "execution_count": null,
      "outputs": []
    },
    {
      "cell_type": "code",
      "source": [
        "#Plot per feature histogram. figsize = (width, height)\n",
        "#spamham_dataset_dataframe.hist(bins=25,figsize=(15,10))"
      ],
      "metadata": {
        "id": "z5XtyqCwbMWg"
      },
      "execution_count": 118,
      "outputs": []
    },
    {
      "cell_type": "code",
      "source": [
        "import numpy as np"
      ],
      "metadata": {
        "id": "1EDiXZrpbQT6"
      },
      "execution_count": 119,
      "outputs": []
    },
    {
      "cell_type": "code",
      "source": [
        "#Define a function to create a training and test set.\n",
        "#Takes dataframe and split ratio as input and outputs train and test datasets (dataframes)\n",
        "def split_train_test(data,test_ratio):\n",
        "  np.random.seed(42) # fix the seed if you want to generate the same\n",
        "  shuffled_indices = np.random.permutation(len(data))\n",
        "  test_set_size = int(len(data)*test_ratio)\n",
        "  test_indices = shuffled_indices[:test_set_size]\n",
        "  train_indices = shuffled_indices[test_set_size:]\n",
        "  return data.iloc[train_indices], data.iloc[test_indices]"
      ],
      "metadata": {
        "id": "-Q2vlZeKbS4g"
      },
      "execution_count": 120,
      "outputs": []
    },
    {
      "cell_type": "code",
      "source": [
        "from sklearn.model_selection import train_test_split"
      ],
      "metadata": {
        "id": "ESEH5itLbWJH"
      },
      "execution_count": 121,
      "outputs": []
    },
    {
      "cell_type": "code",
      "source": [
        "#You can also use Scikit-Learn to create a training and test set.\n",
        "#random_state parameter fixes the seed.\n",
        "spamham_training_set, spamham_test_set = train_test_split(spamham_dataset_dataframe, test_size=0.9,random_state=42)\n",
        "#spamham_dataset_dataframe.keys()\n",
        "#spamham_test_set.head()\n",
        "spamham_training_data, spamham_training_target = spamham_training_set[[\"make\",\"address\",\"all\",\"3d\",\"our\",\"over\",\"remove\",\"internet\",\"order\",\"mail\",\"receive\",\"will\",\"people\",\"report\",\"addresses\",\"free\",\"business\",\"email\",\"you\",\"credit\",\"your\",\"font\",\"0\",\"money\",\"hp\",\"hpl\",\"george\",\"650\",\"lab\",\"labs\",\"telnet\",\"857\",\"data\",\"415\",\"85\",\"technology\",\"1999\",\"parts\",\"pm\",\"direct\",\"cs\",\"meeting\",\"original\",\"project\",\"re\",\"edu\",\"table\",\"conference\",\"semicol\",\"paren\",\"bracket\",\"bang\",\"dollar\",\"pound\",\"cap_avg\",\"cap_long\",\"cap_total\"]], spamham_training_set[\"Class\"]\n",
        "spamham_test_data, spamham_test_target = spamham_test_set[[\"make\",\"address\",\"all\",\"3d\",\"our\",\"over\",\"remove\",\"internet\",\"order\",\"mail\",\"receive\",\"will\",\"people\",\"report\",\"addresses\",\"free\",\"business\",\"email\",\"you\",\"credit\",\"your\",\"font\",\"0\",\"money\",\"hp\",\"hpl\",\"george\",\"650\",\"lab\",\"labs\",\"telnet\",\"857\",\"data\",\"415\",\"85\",\"technology\",\"1999\",\"parts\",\"pm\",\"direct\",\"cs\",\"meeting\",\"original\",\"project\",\"re\",\"edu\",\"table\",\"conference\",\"semicol\",\"paren\",\"bracket\",\"bang\",\"dollar\",\"pound\",\"cap_avg\",\"cap_long\",\"cap_total\"]], spamham_test_set[\"Class\"]\n",
        "\n",
        "spamham_training_data.head()"
      ],
      "metadata": {
        "id": "qs5kYwjrbY3f"
      },
      "execution_count": null,
      "outputs": []
    },
    {
      "cell_type": "code",
      "source": [
        "#Create training and test datasets for spamham data\n",
        "#spamham_training_set, spamham_test_set = split_train_test(spamham_dataset_dataframe, 0.2)\n",
        "#spamham_test_set.head()\n",
        "#spamham_test_set.info()"
      ],
      "metadata": {
        "id": "9FVh5DEhbk8g"
      },
      "execution_count": 123,
      "outputs": []
    },
    {
      "cell_type": "code",
      "source": [
        "#Scatter plot of training and test data\n",
        "spamham_training_set.plot(kind=\"scatter\", x = \"order\", y = \"bracket\")\n",
        "spamham_test_set.plot(kind=\"scatter\", x = \"order\", y = \"bracket\")"
      ],
      "metadata": {
        "id": "Gr791gURbnbh"
      },
      "execution_count": null,
      "outputs": []
    },
    {
      "cell_type": "code",
      "source": [
        "from sklearn.ensemble import RandomForestClassifier\n",
        "from sklearn import tree\n",
        "from sklearn.tree import DecisionTreeClassifier\n",
        "from sklearn.ensemble import AdaBoostClassifier\n",
        "from sklearn.linear_model import LogisticRegression\n",
        "from sklearn.neighbors import KNeighborsClassifier\n",
        "from sklearn.metrics import confusion_matrix\n",
        "from sklearn.metrics import classification_report\n",
        "from sklearn.metrics import accuracy_score\n",
        "clf = RandomForestClassifier(n_estimators=400, max_features='sqrt')\n",
        "#clf = DecisionTreeClassifier(criterion = \"entropy\")\n",
        "#clf = KNeighborsClassifier(n_neighbors=3)\n",
        "#clf = AdaBoostClassifier(n_estimators = 200)\n",
        "#LRI = LogisticRegression( )\n",
        "#clf = AdaBoostClassifier(n_estimators = 200,base_estimator=LRI)\n",
        "clf.fit(spamham_training_data,spamham_training_target)"
      ],
      "metadata": {
        "id": "E4fdR-jybraJ"
      },
      "execution_count": null,
      "outputs": []
    },
    {
      "cell_type": "code",
      "source": [
        "#spamham_test_target_predict=clf.predict(spamham_test_data)\n",
        "spamham_test_target_predict=clf.predict(spamham_test_data)\n",
        "#confusion_matrix(spamham_test_target,spamham_test_target_predict)\n",
        "#classification_report(spamham_test_target,spamham_test_target_predict)\n",
        "accuracy_score(spamham_test_target,spamham_test_target_predict)"
      ],
      "metadata": {
        "id": "XwMT5OwHb1Wv",
        "colab": {
          "base_uri": "https://localhost:8080/"
        },
        "outputId": "4db8f943-14d8-4f82-ff1f-5c722cd1fb44"
      },
      "execution_count": 126,
      "outputs": [
        {
          "output_type": "execute_result",
          "data": {
            "text/plain": [
              "0.9273122434194639"
            ]
          },
          "metadata": {},
          "execution_count": 126
        }
      ]
    },
    {
      "cell_type": "code",
      "source": [
        "tree.plot_tree(clf)"
      ],
      "metadata": {
        "id": "PPCdlNfXeyer"
      },
      "execution_count": null,
      "outputs": []
    },
    {
      "cell_type": "markdown",
      "source": [],
      "metadata": {
        "id": "Tgg8drkM-hTl"
      }
    }
  ],
  "metadata": {
    "colab": {
      "provenance": [],
      "include_colab_link": true
    },
    "kernelspec": {
      "display_name": "Python 3",
      "name": "python3"
    }
  },
  "nbformat": 4,
  "nbformat_minor": 0
}